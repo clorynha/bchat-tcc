{
 "cells": [
  {
   "cell_type": "markdown",
   "metadata": {},
   "source": [
    "### Importação de Bibliotecas"
   ]
  },
  {
   "cell_type": "code",
   "execution_count": null,
   "metadata": {
    "scrolled": true
   },
   "outputs": [],
   "source": [
    "from IPython.display import clear_output\n",
    "from chatterbot import ChatBot\n",
    "from chatterbot.trainers import ListTrainer\n",
    "from chatterbot.trainers import ChatterBotCorpusTrainer\n",
    "import numpy as np\n",
    "import pandas as pd\n",
    "import re, string\n",
    "from sklearn.feature_extraction.text import TfidfVectorizer\n",
    "from sklearn.feature_extraction.text import CountVectorizer\n",
    "import nltk\n",
    "from nltk.tokenize import word_tokenize\n",
    "from nltk.corpus import stopwords\n",
    "from nltk.tokenize import word_tokenize\n",
    "# from nltk.stem import SnowballStemmer\n",
    "from nltk.corpus import wordnet\n",
    "from nltk.stem import WordNetLemmatizer\n",
    "nltk.download('punkt')\n",
    "nltk.download('averaged_perceptron_tagger')\n",
    "nltk.download('wordnet')\n",
    "nltk.download('stopwords')\n",
    "nltk.download('omw-1.4')\n",
    "import matplotlib.pyplot as plt\n",
    "import speech_recognition as sr\n",
    "import pyttsx3\n",
    "import os\n",
    "import sys\n",
    "# Redireciona a saída padrão de erro para /dev/null\n",
    "sys.stderr = open(os.devnull, 'w')"
   ]
  },
  {
   "cell_type": "markdown",
   "metadata": {},
   "source": [
    "### Importação da tabela base de dados e base de perguntas & respostas"
   ]
  },
  {
   "cell_type": "code",
   "execution_count": null,
   "metadata": {},
   "outputs": [],
   "source": [
    "df = pd.read_excel(\"QA_chatbot/database.xlsx\")\n",
    "df[\"Data\"] = pd.to_datetime(df[\"Data\"])\n",
    "\n",
    "qna = pd.read_excel(\"QA_chatbot/QNA.xlsx\")\n",
    "\n",
    "bot = ChatBot('B-Bot')\n",
    "bot.storage_adapter='chatterbot.storage.SQLStorageAdapter'"
   ]
  },
  {
   "cell_type": "markdown",
   "metadata": {},
   "source": [
    "### Funções de pré-processamento de texto"
   ]
  },
  {
   "cell_type": "code",
   "execution_count": null,
   "metadata": {},
   "outputs": [],
   "source": [
    "#convert to lowercase, strip and remove punctuations\n",
    "def preprocess(text):\n",
    "    text = text.lower() \n",
    "    text=text.strip()  \n",
    "    text=re.compile('<.*?>').sub('', text) \n",
    "    text = re.compile('[%s]' % re.escape(string.punctuation)).sub(' ', text)  \n",
    "    text = re.sub('\\s+', ' ', text)  \n",
    "    text = re.sub(r'\\[[0-9]*\\]',' ',text) \n",
    "    text=re.sub(r'[^\\w\\s]', '', str(text).lower().strip())\n",
    "    text = re.sub(r'\\d',' ',text) \n",
    "    text = re.sub(r'\\s+',' ',text) \n",
    "    return text\n",
    " \n",
    "# STOPWORD REMOVAL\n",
    "def stopword(string):\n",
    "    a= [i for i in string.split() if i not in stopwords.words('portuguese')]\n",
    "    return ' '.join(a)\n",
    "\n",
    "# pre-process\n",
    "def finalpreprocess(string):\n",
    "    return stopword(preprocess(string))\n"
   ]
  },
  {
   "cell_type": "markdown",
   "metadata": {},
   "source": [
    "### Função para trainar o bot"
   ]
  },
  {
   "cell_type": "code",
   "execution_count": null,
   "metadata": {},
   "outputs": [],
   "source": [
    "def train_bot():\n",
    "    df = pd.read_excel(\"QA_chatbot/database.xlsx\")\n",
    "    df[\"Data\"] = pd.to_datetime(df[\"Data\"])\n",
    "\n",
    "    qna = pd.read_excel(\"QA_chatbot/QNA.xlsx\")\n",
    "\n",
    "    # questions cleaning database\n",
    "    qna['clean_pergunta'] = qna['pergunta'].apply(lambda x: finalpreprocess(x))\n",
    "    qna['clean_resposta'] = qna['resposta'].apply(lambda x: finalpreprocess(x))\n",
    "\n",
    "    list_train = []\n",
    "    corpus_trainer = ChatterBotCorpusTrainer(bot)\n",
    "    corpus_trainer.train(\"chatterbot.corpus.portuguese\")\n",
    "\n",
    "    for index, row in qna.iterrows():\n",
    "        list_train.append(row.clean_pergunta)\n",
    "        list_train.append(row.resposta)\n",
    "\n",
    "    trainer = ListTrainer(bot)\n",
    "\n",
    "    trainer.train(list_train)"
   ]
  },
  {
   "cell_type": "markdown",
   "metadata": {},
   "source": [
    "### Funções de conversão Texto / "
   ]
  },
  {
   "cell_type": "code",
   "execution_count": null,
   "metadata": {},
   "outputs": [],
   "source": [
    "def ConvertTexto(texto):\n",
    "    engine = pyttsx3.init(\"espeak\")\n",
    "    engine.setProperty(\"rate\",100)\n",
    "    engine.setProperty('volume',0.2)\n",
    "    engine.setProperty(\"voice\",\"mb-br4\")\n",
    "    engine.say(texto)\n",
    "    engine.runAndWait()\n",
    "    \n",
    "def ConvertVoz():\n",
    "    r = sr.Recognizer()\n",
    "    with sr.Microphone() as source:\n",
    "        \n",
    "        r.adjust_for_ambient_noise(source)\n",
    "        print(\"PODE FALAR\\n\")\n",
    "        audio = r.listen(source)\n",
    "        print(\"Você disse...\")\n",
    "      \n",
    "        try:\n",
    "            text = r.recognize_google(audio,language='pt-BR')\n",
    "            #print(text)\n",
    "        except sr.UnknownValueError:\n",
    "            #print(\"Poxa, eu não entendi\")\n",
    "            text = \"Poxa, eu não entendi!\"\n",
    "        except sr.RequestError as e:\n",
    "            print(\"Error {0}\".format(e))\n",
    "            text = \"Eita houve algum erro\"\n",
    "            \n",
    "    return(str(text))"
   ]
  },
  {
   "cell_type": "markdown",
   "metadata": {},
   "source": [
    "### Função para adicionar um comando em python"
   ]
  },
  {
   "cell_type": "code",
   "execution_count": null,
   "metadata": {},
   "outputs": [],
   "source": [
    "def AprendePython():\n",
    "    \n",
    "    qna = pd.read_excel(\"QA_chatbot/QNA.xlsx\")\n",
    "    t = \"Legal, vamos lá!\"\n",
    "    ConvertTexto(t)\n",
    "    name = input(\"\\nDigite a sua pergunta (como descreveria a função):  \")\n",
    "    pyc = input(\"\\nDigite o comando em python corresponde à sua pergunta:  \")\n",
    "    \n",
    "    try:\n",
    "        print(\"\\n\")\n",
    "        print(eval(pyc))\n",
    "        input(\"O resultado do comando digitado foi apresentado.\\nPressione qualquer tecla para prosseguir...\")\n",
    "        print(\"\\n\")\n",
    "        \n",
    "        new_row = pd.DataFrame([[str(name),str(pyc)]],columns=['pergunta','resposta'])\n",
    "        qna = qna.append(new_row,ignore_index=True)\n",
    "        print(qna.tail())\n",
    "        qna.to_excel('QA_chatbot/QNA.xlsx')  \n",
    "        train_bot()\n",
    "        \n",
    "        print(\"\\nOk, agora eu aprendi!\\n\")\n",
    "        t = \"Ok, agora eu aprendi!\"\n",
    "        ConvertTexto(t)\n",
    "        input(\"Digite qualquer coisa para voltar ao menu...\")\n",
    "    \n",
    "    except Exception as e:\n",
    "        print(\"\\nHouve um erro:\")\n",
    "        print(e)\n",
    "        t = \"Xi... algo deu errado no aprentizado!\"\n",
    "        ConvertTexto(t)\n",
    "        input(\"Digite qualquer coisa para retornar...\")       "
   ]
  },
  {
   "cell_type": "markdown",
   "metadata": {},
   "source": [
    "### Função de analisar a pergunta"
   ]
  },
  {
   "cell_type": "code",
   "execution_count": null,
   "metadata": {},
   "outputs": [],
   "source": [
    "def AnalisaPergunta(pergunta):\n",
    "    \n",
    "    result = finalpreprocess(pergunta)\n",
    "    resposta = bot.get_response(result)\n",
    "    \n",
    "    if float(resposta.confidence) > 0.5:\n",
    "        print(\"Comando: \"+str(resposta))\n",
    "        t = \"Aqui está seu resultado!\"\n",
    "        ConvertTexto(t)\n",
    "        try:\n",
    "            ans = eval(str(resposta))\n",
    "            print(ans)\n",
    "            \n",
    "            ans[\"Data\"] = ans[\"Data\"].astype(\"datetime64\")\n",
    "            ans = ans.set_index(\"Data\")\n",
    "            \n",
    "            plt.plot(ans, marker='o')\n",
    "            plt.show()\n",
    "            \n",
    "            input(\"Digite qualquer coisa para continuar.......\")          \n",
    "            \n",
    "            print(\"A resposta está correta? Por favor, responda 'Sim' ou 'Não'\")\n",
    "            t = \"A resposta está correta?\"\n",
    "            ConvertTexto(t)\n",
    "            ans = ConvertVoz()\n",
    "            \n",
    "            if ans == 'sim' or ans == 'Sim' or ans == 'esta' or ans == 'está':\n",
    "                print(\"\\n Muito obrigada pelo feedback!!!\")\n",
    "            \n",
    "            elif ans == 'não' or ans == 'Não':\n",
    "                print(\"\\nPreciso aprender a resolver essa pergunta.\")\n",
    "                t = \"Desculpe, mas eu ainda não sei responder esta pergunta. Me ajude!\"\n",
    "                AprendePython()\n",
    "                \n",
    "        except:\n",
    "            print(ans)\n",
    "\n",
    "                    \n",
    "    else:\n",
    "        print(\"\\nPreciso aprender a resolver essa pergunta. Pode me ajudar? Por favor, responda 'Sim' ou 'Não'\")\n",
    "        t = \"Desculpe, mas eu ainda não sei responder esta pergunta. Pode me ajudar?\"\n",
    "        ConvertTexto(t)\n",
    "        \n",
    "        ans = ConvertVoz()        \n",
    "        if (ans == \"sim\"):\n",
    "            AprendePython()\n",
    "        else:\n",
    "            print(\"Tudo bem, obrigada!\")\n",
    "            t = \"Tudo bem, obrigada!\"\n",
    "            ConvertTexto(t)\n",
    "            input(\"Digite qualquer coisa para voltar ao menu...\")\n"
   ]
  },
  {
   "cell_type": "markdown",
   "metadata": {},
   "source": [
    "### Função da opção 1"
   ]
  },
  {
   "cell_type": "code",
   "execution_count": null,
   "metadata": {},
   "outputs": [],
   "source": [
    "def solicitacao():\n",
    "    print(\"IMPORTANTE: para OEE diga Eficiência 'Ex: Eficiência da máquina 1 em janeiro'\")\n",
    "    print(\"ATENÇÃO: caso queira uma dica, diga o seguinte: 'o que eu posso perguntar?'\\n\")\n",
    "    t = \"Considerando as dicas na tela, o que você deseja saber?\"\n",
    "    ConvertTexto(t)\n",
    "    print(list(df.columns))\n",
    "    \n",
    "    print(\"\\nO que deseja saber?\")\n",
    "            \n",
    "    pergunta = ConvertVoz()\n",
    "    print(pergunta)\n",
    "        \n",
    "    if pergunta == \"o que eu posso perguntar\":            \n",
    "        t = \"Essas são as questões que eu já sei responder:\"\n",
    "        print(\"\\nQuestões que já sei responder:\\n\")\n",
    "        ConvertTexto(t)            \n",
    "        print(qna['pergunta'])\n",
    "            \n",
    "    else:\n",
    "        print(\"\\nANALISANDO...\")\n",
    "        t = \"Aguarde que vou analisar sua pergunta!\"\n",
    "        ConvertTexto(t)\n",
    "        AnalisaPergunta(pergunta)"
   ]
  },
  {
   "cell_type": "markdown",
   "metadata": {},
   "source": [
    "### Função da Opção 5"
   ]
  },
  {
   "cell_type": "code",
   "execution_count": null,
   "metadata": {},
   "outputs": [],
   "source": [
    "def conversa(nome):\n",
    "    print('Olá, o que deseja saber?')\n",
    "    t = \"Olá \"+str(nome)\n",
    "    ConvertTexto(t)\n",
    "    t = \"O que deseja saber?\"\n",
    "    ConvertTexto(t)\n",
    "    \n",
    "    pergunta = ConvertVoz()\n",
    "    result = finalpreprocess(pergunta)\n",
    "    resposta = bot.get_response(result)\n",
    "        \n",
    "    if float(resposta.confidence) > 0.5:\n",
    "        t = str(resposta)\n",
    "        ConvertTexto(t)\n",
    "           \n",
    "    else:\n",
    "        print(\"\\nNão sei, você pode me ajudar a descobrir? Responda 'Sim' ou 'Não'\")\n",
    "        t = \"Pode me ajudar a descobrir?\"\n",
    "        ConvertTexto(t)\n",
    "        \n",
    "        ans = ConvertVoz()        \n",
    "        if (ans == \"sim\"):\n",
    "            AprendePython()\n",
    "        else:\n",
    "            print(\"Tudo bem, obrigada!\")\n",
    "            t = \"Tudo bem, obrigada!\"\n",
    "            ConvertTexto(t)\n",
    "            input(\"Digite qualquer coisa para voltar ao menu...\")\n",
    "  "
   ]
  },
  {
   "cell_type": "markdown",
   "metadata": {},
   "source": [
    "### Loop do chatbot"
   ]
  },
  {
   "cell_type": "code",
   "execution_count": null,
   "metadata": {
    "scrolled": true
   },
   "outputs": [],
   "source": [
    "train_bot()\n",
    "print(\"\\n **************************  B-CHAT  ************************************* \\n\")\n",
    "\n",
    "print(\"Oi, eu sou o B-Chat \\n\")\n",
    "t = \"Oi, eu sou o Bi-Chét\"\n",
    "ConvertTexto(t)\n",
    "\n",
    "print(\"Por favor, fale somente quando aparecer a palavra FALE no seu console, ok? \\n\")\n",
    "t = \"Por favor, fale somente quando aparecer a palavra FALE no seu console, ok?\"\n",
    "ConvertTexto(t)\n",
    "\n",
    "print(\"Me diga: Qual é o seu nome? \\n\")\n",
    "t = \"Me diga: Qual é o seu nome?\"\n",
    "ConvertTexto(t)\n",
    "nome = ConvertVoz()\n",
    "print(\"\\nOlá, \"+str(nome)+\" esperamos que esteja bem!\\n\")\n",
    "t = \"Olá, \"+str(nome)+\" esperamos que esteja bem!\"\n",
    "ConvertTexto(t)\n",
    "\n",
    "a=1\n",
    "while a==1:\n",
    "\n",
    "    print(\"Na base de dados disponível temos os seguintes dados (colunas no dataframe):\")    \n",
    "    t = \"Na base de dados disponível temos os seguintes dados:\"\n",
    "    ConvertTexto(t)\n",
    "    print(list(df.columns))    \n",
    "    print(\"\\nComo posso te ajudar?\")\n",
    "    t = \"Vou mostrar o menu e você pode digitar uma opção para eu ajudar?\"\n",
    "    ConvertTexto(t)\n",
    "    \n",
    "    menu = input('Digite: \\n'+\n",
    "                    ' 1 - para solicitar um gráfico a partir do DataFrame \\n'+\n",
    "                    ' 2 - para enviar um comando python para ser salvo \\n'+\n",
    "                    ' 3 - para me treinar novamente \\n'+\n",
    "                    ' 4 - para uma conversa aleatória \\n'+\n",
    "                    ' 5 - para encerrar o chat \\n')\n",
    "    clear_output(wait=True)\n",
    "    \n",
    "    if menu == '1':\n",
    "        solicitacao()            \n",
    "    elif menu == '2':\n",
    "        AprendePython()        \n",
    "    elif menu == '3':        \n",
    "        train_bot()\n",
    "    elif menu == '4':\n",
    "        conversa(nome)    \n",
    "    elif menu == '5':\n",
    "        t = \"Até mais!\"\n",
    "        ConvertTexto(t)\n",
    "        a = 2            \n",
    "    else:\n",
    "        print(\"\\nOpção inválida.\")\n",
    "        t = \"Digite uma opção válida, por gentileza!\"\n",
    "        ConvertTexto(t)\n",
    "        \n",
    "    print(\"***************************************************************\")"
   ]
  },
  {
   "cell_type": "code",
   "execution_count": null,
   "metadata": {},
   "outputs": [],
   "source": []
  }
 ],
 "metadata": {
  "kernelspec": {
   "display_name": "Python 3 (ipykernel)",
   "language": "python",
   "name": "python3"
  },
  "language_info": {
   "codemirror_mode": {
    "name": "ipython",
    "version": 3
   },
   "file_extension": ".py",
   "mimetype": "text/x-python",
   "name": "python",
   "nbconvert_exporter": "python",
   "pygments_lexer": "ipython3",
   "version": "3.7.17"
  }
 },
 "nbformat": 4,
 "nbformat_minor": 4
}
